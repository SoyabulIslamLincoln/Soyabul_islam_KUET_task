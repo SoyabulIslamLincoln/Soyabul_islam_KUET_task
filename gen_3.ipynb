{
 "cells": [
  {
   "cell_type": "code",
   "execution_count": 1,
   "metadata": {},
   "outputs": [],
   "source": [
    "import random\n",
    "from datetime import timedelta, date"
   ]
  },
  {
   "cell_type": "code",
   "execution_count": 2,
   "metadata": {},
   "outputs": [],
   "source": [
    "start_date = date(2000, 4, 1)\n",
    "end_date = date(2023, 8, 31)\n",
    "delta = end_date - start_date\n",
    "delta2 = timedelta(days=1)\n",
    "col_name = \"Date,Temperature,Moisture,Watering\\n\"\n",
    "df = col_name"
   ]
  },
  {
   "cell_type": "code",
   "execution_count": 3,
   "metadata": {},
   "outputs": [],
   "source": [
    "for year in range(2000, 2024):\n",
    "    for i in range((date(year, 4, 1) - start_date).days, (date(year, 9, 1) - start_date).days):\n",
    "\n",
    "        rand_date = start_date + delta2 * i\n",
    "        temperature = random.randint(25, 40)\n",
    "        moisture = random.randint(40, 85)\n",
    "        watering = random.randint(130, 200)\n",
    "\n",
    "        \n",
    "        df += f\"{rand_date}, {temperature}, {moisture}, {watering}\\n\"\n"
   ]
  },
  {
   "cell_type": "code",
   "execution_count": 4,
   "metadata": {},
   "outputs": [],
   "source": [
    "with open(\"dataset0_23.csv\", \"w\") as f:\n",
    "    f.write(df)"
   ]
  },
  {
   "cell_type": "code",
   "execution_count": 5,
   "metadata": {},
   "outputs": [],
   "source": [
    "train_ratio=0.8\n",
    "\n",
    "df_sep = df.strip().split(\"\\n\")[1:]  \n",
    "random.shuffle(df_sep) \n",
    "\n",
    "train_size = int(train_ratio * len(df_sep))\n",
    "\n",
    "train_data = col_name + \"\\n\".join(df_sep[:train_size]) + \"\\n\"\n",
    "test_data = col_name + \"\\n\".join(df_sep[train_size:]) + \"\\n\""
   ]
  },
  {
   "cell_type": "code",
   "execution_count": 6,
   "metadata": {},
   "outputs": [],
   "source": [
    "with open(\"train_data0_23.csv\", \"w\") as f:\n",
    "    f.write(train_data)\n",
    "\n",
    "with open(\"test_data0_23.csv\", \"w\") as f:\n",
    "    f.write(test_data)"
   ]
  },
  {
   "cell_type": "code",
   "execution_count": null,
   "metadata": {},
   "outputs": [],
   "source": []
  }
 ],
 "metadata": {
  "kernelspec": {
   "display_name": "thesis",
   "language": "python",
   "name": "python3"
  },
  "language_info": {
   "codemirror_mode": {
    "name": "ipython",
    "version": 3
   },
   "file_extension": ".py",
   "mimetype": "text/x-python",
   "name": "python",
   "nbconvert_exporter": "python",
   "pygments_lexer": "ipython3",
   "version": "3.9.0"
  },
  "orig_nbformat": 4
 },
 "nbformat": 4,
 "nbformat_minor": 2
}
