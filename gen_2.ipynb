{
 "cells": [
  {
   "cell_type": "code",
   "execution_count": 1,
   "metadata": {},
   "outputs": [],
   "source": [
    "import random\n",
    "from datetime import timedelta, date"
   ]
  },
  {
   "cell_type": "code",
   "execution_count": 2,
   "metadata": {},
   "outputs": [],
   "source": [
    "start_date = date(2000, 4, 1)\n",
    "end_date = date(2023, 8, 31)\n"
   ]
  },
  {
   "cell_type": "code",
   "execution_count": 3,
   "metadata": {},
   "outputs": [],
   "source": [
    "delta = timedelta(days=1)"
   ]
  },
  {
   "cell_type": "code",
   "execution_count": 4,
   "metadata": {},
   "outputs": [],
   "source": [
    "col_name = \"Date,Temperature,Moisture,Watering\\n\""
   ]
  },
  {
   "cell_type": "code",
   "execution_count": 5,
   "metadata": {},
   "outputs": [],
   "source": [
    "df = col_name"
   ]
  },
  {
   "cell_type": "code",
   "execution_count": 6,
   "metadata": {},
   "outputs": [],
   "source": [
    "\n",
    "\n",
    "total_days = 0\n",
    "current_date = start_date\n",
    "while current_date <= end_date:\n",
    "    if current_date.month >= 4 and current_date.month <= 8:\n",
    "        total_days += 1\n",
    "    current_date += delta\n",
    "\n",
    "\n"
   ]
  },
  {
   "cell_type": "code",
   "execution_count": 7,
   "metadata": {},
   "outputs": [
    {
     "name": "stdout",
     "output_type": "stream",
     "text": [
      "3672\n"
     ]
    }
   ],
   "source": [
    "print(total_days)"
   ]
  },
  {
   "cell_type": "code",
   "execution_count": 8,
   "metadata": {},
   "outputs": [],
   "source": [
    "for i in range(total_days+1):\n",
    "    \n",
    "    #rand_date = start_date + timedelta(days=random.randrange(delta.days))\n",
    "    while True:\n",
    "        rand_date = start_date + delta * i\n",
    "        if rand_date.month >= 4 and rand_date.month <= 8:\n",
    "            break\n",
    "\n",
    "    \n",
    "    temperature = random.randint(25, 40)\n",
    "\n",
    "    \n",
    "    moisture = random.randint(40, 85)\n",
    "\n",
    "    \n",
    "    watering = random.randint(130, 200)\n",
    "\n",
    "    # Append the data to the dataset\n",
    "    df += f\"{rand_date}, {temperature}, {moisture}, {watering}\\n\""
   ]
  },
  {
   "cell_type": "code",
   "execution_count": null,
   "metadata": {},
   "outputs": [],
   "source": [
    "with open(\"dataset2000-2023.csv\", \"w\") as f:\n",
    "    f.write(df)"
   ]
  },
  {
   "cell_type": "code",
   "execution_count": null,
   "metadata": {},
   "outputs": [],
   "source": [
    "train_ratio=0.8\n",
    "\n",
    "df_sep = df.strip().split(\"\\n\")[1:]  \n",
    "random.shuffle(df_sep) \n",
    "\n",
    "train_size = int(train_ratio * len(df_sep))\n",
    "\n",
    "train_data = col_name + \"\\n\".join(df_sep[:train_size]) + \"\\n\"\n",
    "test_data = col_name + \"\\n\".join(df_sep[train_size:]) + \"\\n\""
   ]
  },
  {
   "cell_type": "code",
   "execution_count": null,
   "metadata": {},
   "outputs": [],
   "source": [
    "with open(\"train_dataset.csv\", \"w\") as f:\n",
    "    f.write(train_data)\n",
    "\n",
    "with open(\"test_dataset.csv\", \"w\") as f:\n",
    "    f.write(test_data)"
   ]
  },
  {
   "cell_type": "code",
   "execution_count": null,
   "metadata": {},
   "outputs": [],
   "source": []
  }
 ],
 "metadata": {
  "kernelspec": {
   "display_name": "thesis",
   "language": "python",
   "name": "python3"
  },
  "language_info": {
   "codemirror_mode": {
    "name": "ipython",
    "version": 3
   },
   "file_extension": ".py",
   "mimetype": "text/x-python",
   "name": "python",
   "nbconvert_exporter": "python",
   "pygments_lexer": "ipython3",
   "version": "3.9.0"
  },
  "orig_nbformat": 4
 },
 "nbformat": 4,
 "nbformat_minor": 2
}
